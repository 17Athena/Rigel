{
  "nbformat": 4,
  "nbformat_minor": 0,
  "metadata": {
    "colab": {
      "name": "Rigel.ipynb",
      "provenance": [],
      "authorship_tag": "ABX9TyNt/wUicn0QDpIr7yesBLCl",
      "include_colab_link": true
    },
    "kernelspec": {
      "name": "python3",
      "display_name": "Python 3"
    }
  },
  "cells": [
    {
      "cell_type": "markdown",
      "metadata": {
        "id": "view-in-github",
        "colab_type": "text"
      },
      "source": [
        "<a href=\"https://colab.research.google.com/github/17Athena/Rigel/blob/master/Rigel.ipynb\" target=\"_parent\"><img src=\"https://colab.research.google.com/assets/colab-badge.svg\" alt=\"Open In Colab\"/></a>"
      ]
    },
    {
      "cell_type": "code",
      "metadata": {
        "id": "FoxJOz_fDdBb",
        "colab_type": "code",
        "colab": {}
      },
      "source": [
        "#Description: This is a chat bot programme. Meet Rigel!"
      ],
      "execution_count": null,
      "outputs": []
    },
    {
      "cell_type": "code",
      "metadata": {
        "id": "L7VIAXHoEszD",
        "colab_type": "code",
        "colab": {
          "base_uri": "https://localhost:8080/",
          "height": 51
        },
        "outputId": "e8fb4e78-754b-45ad-cbc9-6f7c55989aa3"
      },
      "source": [
        "pip install nltk "
      ],
      "execution_count": null,
      "outputs": [
        {
          "output_type": "stream",
          "text": [
            "Requirement already satisfied: nltk in /usr/local/lib/python3.6/dist-packages (3.2.5)\n",
            "Requirement already satisfied: six in /usr/local/lib/python3.6/dist-packages (from nltk) (1.12.0)\n"
          ],
          "name": "stdout"
        }
      ]
    },
    {
      "cell_type": "code",
      "metadata": {
        "id": "cRRtULP7FCMa",
        "colab_type": "code",
        "colab": {
          "base_uri": "https://localhost:8080/",
          "height": 870
        },
        "outputId": "4bb88d49-d516-4571-e70f-14623bcc884e"
      },
      "source": [
        "pip install newspaper3k"
      ],
      "execution_count": null,
      "outputs": [
        {
          "output_type": "stream",
          "text": [
            "Collecting newspaper3k\n",
            "\u001b[?25l  Downloading https://files.pythonhosted.org/packages/d7/b9/51afecb35bb61b188a4b44868001de348a0e8134b4dfa00ffc191567c4b9/newspaper3k-0.2.8-py3-none-any.whl (211kB)\n",
            "\r\u001b[K     |█▌                              | 10kB 22.1MB/s eta 0:00:01\r\u001b[K     |███                             | 20kB 1.7MB/s eta 0:00:01\r\u001b[K     |████▋                           | 30kB 2.3MB/s eta 0:00:01\r\u001b[K     |██████▏                         | 40kB 2.5MB/s eta 0:00:01\r\u001b[K     |███████▊                        | 51kB 2.0MB/s eta 0:00:01\r\u001b[K     |█████████▎                      | 61kB 2.3MB/s eta 0:00:01\r\u001b[K     |██████████▉                     | 71kB 2.5MB/s eta 0:00:01\r\u001b[K     |████████████▍                   | 81kB 2.7MB/s eta 0:00:01\r\u001b[K     |██████████████                  | 92kB 2.9MB/s eta 0:00:01\r\u001b[K     |███████████████▌                | 102kB 2.8MB/s eta 0:00:01\r\u001b[K     |█████████████████               | 112kB 2.8MB/s eta 0:00:01\r\u001b[K     |██████████████████▋             | 122kB 2.8MB/s eta 0:00:01\r\u001b[K     |████████████████████▏           | 133kB 2.8MB/s eta 0:00:01\r\u001b[K     |█████████████████████▊          | 143kB 2.8MB/s eta 0:00:01\r\u001b[K     |███████████████████████▎        | 153kB 2.8MB/s eta 0:00:01\r\u001b[K     |████████████████████████▉       | 163kB 2.8MB/s eta 0:00:01\r\u001b[K     |██████████████████████████▍     | 174kB 2.8MB/s eta 0:00:01\r\u001b[K     |████████████████████████████    | 184kB 2.8MB/s eta 0:00:01\r\u001b[K     |█████████████████████████████▌  | 194kB 2.8MB/s eta 0:00:01\r\u001b[K     |███████████████████████████████ | 204kB 2.8MB/s eta 0:00:01\r\u001b[K     |████████████████████████████████| 215kB 2.8MB/s \n",
            "\u001b[?25hCollecting feedparser>=5.2.1\n",
            "\u001b[?25l  Downloading https://files.pythonhosted.org/packages/91/d8/7d37fec71ff7c9dbcdd80d2b48bcdd86d6af502156fc93846fb0102cb2c4/feedparser-5.2.1.tar.bz2 (192kB)\n",
            "\r\u001b[K     |█▊                              | 10kB 23.3MB/s eta 0:00:01\r\u001b[K     |███▍                            | 20kB 20.2MB/s eta 0:00:01\r\u001b[K     |█████▏                          | 30kB 26.2MB/s eta 0:00:01\r\u001b[K     |██████▉                         | 40kB 15.2MB/s eta 0:00:01\r\u001b[K     |████████▌                       | 51kB 11.5MB/s eta 0:00:01\r\u001b[K     |██████████▎                     | 61kB 13.4MB/s eta 0:00:01\r\u001b[K     |████████████                    | 71kB 11.5MB/s eta 0:00:01\r\u001b[K     |█████████████▋                  | 81kB 12.8MB/s eta 0:00:01\r\u001b[K     |███████████████▍                | 92kB 11.6MB/s eta 0:00:01\r\u001b[K     |█████████████████               | 102kB 8.7MB/s eta 0:00:01\r\u001b[K     |██████████████████▊             | 112kB 8.7MB/s eta 0:00:01\r\u001b[K     |████████████████████▌           | 122kB 8.7MB/s eta 0:00:01\r\u001b[K     |██████████████████████▏         | 133kB 8.7MB/s eta 0:00:01\r\u001b[K     |███████████████████████▉        | 143kB 8.7MB/s eta 0:00:01\r\u001b[K     |█████████████████████████▋      | 153kB 8.7MB/s eta 0:00:01\r\u001b[K     |███████████████████████████▎    | 163kB 8.7MB/s eta 0:00:01\r\u001b[K     |█████████████████████████████   | 174kB 8.7MB/s eta 0:00:01\r\u001b[K     |██████████████████████████████▊ | 184kB 8.7MB/s eta 0:00:01\r\u001b[K     |████████████████████████████████| 194kB 8.7MB/s \n",
            "\u001b[?25hRequirement already satisfied: lxml>=3.6.0 in /usr/local/lib/python3.6/dist-packages (from newspaper3k) (4.2.6)\n",
            "Collecting feedfinder2>=0.0.4\n",
            "  Downloading https://files.pythonhosted.org/packages/35/82/1251fefec3bb4b03fd966c7e7f7a41c9fc2bb00d823a34c13f847fd61406/feedfinder2-0.0.4.tar.gz\n",
            "Requirement already satisfied: Pillow>=3.3.0 in /usr/local/lib/python3.6/dist-packages (from newspaper3k) (7.0.0)\n",
            "Requirement already satisfied: requests>=2.10.0 in /usr/local/lib/python3.6/dist-packages (from newspaper3k) (2.23.0)\n",
            "Requirement already satisfied: nltk>=3.2.1 in /usr/local/lib/python3.6/dist-packages (from newspaper3k) (3.2.5)\n",
            "Collecting tinysegmenter==0.3\n",
            "  Downloading https://files.pythonhosted.org/packages/17/82/86982e4b6d16e4febc79c2a1d68ee3b707e8a020c5d2bc4af8052d0f136a/tinysegmenter-0.3.tar.gz\n",
            "Collecting tldextract>=2.0.1\n",
            "\u001b[?25l  Downloading https://files.pythonhosted.org/packages/fd/0e/9ab599d6e78f0340bb1d1e28ddeacb38c8bb7f91a1b0eae9a24e9603782f/tldextract-2.2.2-py2.py3-none-any.whl (48kB)\n",
            "\u001b[K     |████████████████████████████████| 51kB 6.9MB/s \n",
            "\u001b[?25hCollecting cssselect>=0.9.2\n",
            "  Downloading https://files.pythonhosted.org/packages/3b/d4/3b5c17f00cce85b9a1e6f91096e1cc8e8ede2e1be8e96b87ce1ed09e92c5/cssselect-1.1.0-py2.py3-none-any.whl\n",
            "Requirement already satisfied: PyYAML>=3.11 in /usr/local/lib/python3.6/dist-packages (from newspaper3k) (3.13)\n",
            "Requirement already satisfied: python-dateutil>=2.5.3 in /usr/local/lib/python3.6/dist-packages (from newspaper3k) (2.8.1)\n",
            "Collecting jieba3k>=0.35.1\n",
            "\u001b[?25l  Downloading https://files.pythonhosted.org/packages/a9/cb/2c8332bcdc14d33b0bedd18ae0a4981a069c3513e445120da3c3f23a8aaa/jieba3k-0.35.1.zip (7.4MB)\n",
            "\u001b[K     |████████████████████████████████| 7.4MB 10.9MB/s \n",
            "\u001b[?25hRequirement already satisfied: beautifulsoup4>=4.4.1 in /usr/local/lib/python3.6/dist-packages (from newspaper3k) (4.6.3)\n",
            "Requirement already satisfied: six in /usr/local/lib/python3.6/dist-packages (from feedfinder2>=0.0.4->newspaper3k) (1.12.0)\n",
            "Requirement already satisfied: idna<3,>=2.5 in /usr/local/lib/python3.6/dist-packages (from requests>=2.10.0->newspaper3k) (2.9)\n",
            "Requirement already satisfied: certifi>=2017.4.17 in /usr/local/lib/python3.6/dist-packages (from requests>=2.10.0->newspaper3k) (2020.6.20)\n",
            "Requirement already satisfied: chardet<4,>=3.0.2 in /usr/local/lib/python3.6/dist-packages (from requests>=2.10.0->newspaper3k) (3.0.4)\n",
            "Requirement already satisfied: urllib3!=1.25.0,!=1.25.1,<1.26,>=1.21.1 in /usr/local/lib/python3.6/dist-packages (from requests>=2.10.0->newspaper3k) (1.24.3)\n",
            "Requirement already satisfied: setuptools in /usr/local/lib/python3.6/dist-packages (from tldextract>=2.0.1->newspaper3k) (47.3.1)\n",
            "Collecting requests-file>=1.4\n",
            "  Downloading https://files.pythonhosted.org/packages/77/86/cdb5e8eaed90796aa83a6d9f75cfbd37af553c47a291cd47bc410ef9bdb2/requests_file-1.5.1-py2.py3-none-any.whl\n",
            "Building wheels for collected packages: feedparser, feedfinder2, tinysegmenter, jieba3k\n",
            "  Building wheel for feedparser (setup.py) ... \u001b[?25l\u001b[?25hdone\n",
            "  Created wheel for feedparser: filename=feedparser-5.2.1-cp36-none-any.whl size=44940 sha256=efbe201af79e46a896b4cb8c75a231b38558c10ca032a0dd3a5c056046b7f42e\n",
            "  Stored in directory: /root/.cache/pip/wheels/8c/69/b7/f52763c41c5471df57703a0ef718a32a5e81ee35dcf6d4f97f\n",
            "  Building wheel for feedfinder2 (setup.py) ... \u001b[?25l\u001b[?25hdone\n",
            "  Created wheel for feedfinder2: filename=feedfinder2-0.0.4-cp36-none-any.whl size=3357 sha256=9b533e7e690bd078dbda8a3405a2ed1109a507da21a068021b56433d28508674\n",
            "  Stored in directory: /root/.cache/pip/wheels/de/03/ca/778e3a7a627e3d98836cc890e7cb40c7575424cfd3340f40ed\n",
            "  Building wheel for tinysegmenter (setup.py) ... \u001b[?25l\u001b[?25hdone\n",
            "  Created wheel for tinysegmenter: filename=tinysegmenter-0.3-cp36-none-any.whl size=13539 sha256=53b66bb886a7d12388b236cfa7f12b0a80e6ce2e314ece7f9d419fff257b0e13\n",
            "  Stored in directory: /root/.cache/pip/wheels/81/2b/43/a02ede72324dd40cdd7ca53aad718c7710628e91b8b0dc0f02\n",
            "  Building wheel for jieba3k (setup.py) ... \u001b[?25l\u001b[?25hdone\n",
            "  Created wheel for jieba3k: filename=jieba3k-0.35.1-cp36-none-any.whl size=7398406 sha256=25bc3a4e54ad428f73d4144496eda28abcecb9e9eb5f420a254dab15910d8ccc\n",
            "  Stored in directory: /root/.cache/pip/wheels/83/15/9c/a3f1f67e7f7181170ad37d32e503c35da20627c013f438ed34\n",
            "Successfully built feedparser feedfinder2 tinysegmenter jieba3k\n",
            "Installing collected packages: feedparser, feedfinder2, tinysegmenter, requests-file, tldextract, cssselect, jieba3k, newspaper3k\n",
            "Successfully installed cssselect-1.1.0 feedfinder2-0.0.4 feedparser-5.2.1 jieba3k-0.35.1 newspaper3k-0.2.8 requests-file-1.5.1 tinysegmenter-0.3 tldextract-2.2.2\n"
          ],
          "name": "stdout"
        }
      ]
    },
    {
      "cell_type": "code",
      "metadata": {
        "id": "OcW974NpFeQf",
        "colab_type": "code",
        "colab": {}
      },
      "source": [
        "#Import the libraries required.\n",
        "from newspaper import Article\n",
        "import random\n",
        "import string\n",
        "import nltk\n",
        "from sklearn.feature_extraction.text import CountVectorizer\n",
        "from sklearn.metrics.pairwise import cosine_similarity\n",
        "import numpy as np\n",
        "import warnings\n",
        "warnings.filterwarnings('ignore')"
      ],
      "execution_count": null,
      "outputs": []
    },
    {
      "cell_type": "code",
      "metadata": {
        "id": "KfcFehyuHuQE",
        "colab_type": "code",
        "colab": {
          "base_uri": "https://localhost:8080/",
          "height": 34
        },
        "outputId": "790b494f-62f5-4d35-ad83-50b2a815f293"
      },
      "source": [
        "#Download the punkt package now.\n",
        "nltk.download('punkt', quiet=True)"
      ],
      "execution_count": null,
      "outputs": [
        {
          "output_type": "execute_result",
          "data": {
            "text/plain": [
              "True"
            ]
          },
          "metadata": {
            "tags": []
          },
          "execution_count": 6
        }
      ]
    },
    {
      "cell_type": "code",
      "metadata": {
        "id": "jkboBY9fIKXg",
        "colab_type": "code",
        "colab": {}
      },
      "source": [
        "#Get the information required, in this case, info on Data Security and Privacy.\n",
        "article = Article('https://www.varonis.com/blog/data-privacy/#:~:text=Data%20Security%20and%20data%20privacy,is%20collected%2C%20shared%20and%20used.')\n",
        "article.download()\n",
        "article.parse()\n",
        "article.nlp()\n",
        "corpus = article.text"
      ],
      "execution_count": null,
      "outputs": []
    },
    {
      "cell_type": "code",
      "metadata": {
        "id": "nwgltu0CLOV8",
        "colab_type": "code",
        "colab": {
          "base_uri": "https://localhost:8080/",
          "height": 1000
        },
        "outputId": "c2b44073-5684-463e-8566-aae393aaf015"
      },
      "source": [
        "#Print the article's text.\n",
        "print(corpus)"
      ],
      "execution_count": null,
      "outputs": [
        {
          "output_type": "stream",
          "text": [
            "Data privacy or information privacy is a branch of data security concerned with the proper handling of data – consent, notice, and regulatory obligations. More specifically, practical data privacy concerns often revolve around:\n",
            "\n",
            "Whether or how data is shared with third parties. How data is legally collected or stored. Regulatory restrictions such as GDPR, HIPAA, GLBA, or CCPA.\n",
            "\n",
            "In this guide, we’ll look at why data privacy is important, and how it is linked to data security. Then we’ll take a look at the legislation that covers data privacy in several key countries, and In several key industries. Finally, we’ll give you some ways to improve your data privacy in both personal and business environments.\n",
            "\n",
            "Get the Free Pen Testing Active Directory Environments EBook “This really opened my eyes to AD security in a way defensive work never did.”\n",
            "\n",
            "As we’ll see, the security and privacy of data are intimately connected, and so ensuring data privacy means making use of a complete security solution like that offered by Varonis.\n",
            "\n",
            "Why is Data Privacy Important?\n",
            "\n",
            "There are two drivers for why data privacy is one of the most significant issues in our industry.\n",
            "\n",
            "Data is one of the most important assets a company has. With the rise of the data economy, companies find enormous value in collecting, sharing and using data. Companies such as Google, Facebook, and Amazon have all built empires atop the data economy. Transparency in how businesses request consent, abide by their privacy policies, and manage the data that they’ve collected is vital to building trust and accountability with customers and partners who expect privacy. Many companies have learned the importance of privacy the hard way, through highly publicized privacy fails.\n",
            "\n",
            "Second, privacy is the right of an individual to be free from uninvited surveillance. To safely exist in one’s space and freely express one’s opinions behind closed doors is critical to living in a democratic society.\n",
            "\n",
            "“Privacy forms the basis of our freedom. You have to have moments of reserve, reflection, intimacy, and solitude,” says Dr. Ann Cavoukian, former Information & Privacy Commissioner of Ontario, Canada.\n",
            "\n",
            "Dr. Cavoukian knows a thing or two about data privacy. She is best known for her leadership in the development of Privacy by Design (PbD), which now serves as a cornerstone for many pieces of contemporary data privacy legislation.\n",
            "\n",
            "Data Privacy vs. Data Security\n",
            "\n",
            "Organizations commonly believe that keeping sensitive data secure from hackers means they’re automatically compliant with data privacy regulations. This is not the case.\n",
            "\n",
            "Data Security and data privacy are often used interchangeably, but there are distinct differences:\n",
            "\n",
            "Data Security protects data from compromise by external attackers and malicious insiders.\n",
            "\n",
            "Data Privacy governs how data is collected, shared and used.\n",
            "\n",
            "Consider a scenario where you’ve gone to great lengths to secure personally identifiable information (PII). The data is encrypted, access is restricted, and multiple overlapping monitoring systems are in place. However, if that PII was collected without proper consent, you could be violating a data privacy regulation even though the data is secure.\n",
            "\n",
            "Data Protection is the Force Behind Our Right to Privacy\n",
            "\n",
            "Despite recent advances in data privacy legislation and practice, consumer’s privacy is regularly invaded or compromised by companies and governments. That has led some to argue that consumers have already lost the privacy war.\n",
            "\n",
            "While you can have data protection without data privacy, you cannot have data privacy without data protection.\n",
            "\n",
            "Ensuring data privacy means that you’re not the creepy company that greedily collects all of your customer’s personal data – whether it is with passive location tracking, apps secretly absorbing your personal address book, or websites recording your every keystroke.\n",
            "\n",
            "Instead, employees should be regularly trained on data protection so they understand the processes and procedures necessary to ensure proper collection, sharing, and use of sensitive data as part of a data security portfolio.\n",
            "\n",
            "Information privacy also includes the regulations required for companies to protect data. And as more data protection regulation grows worldwide, global privacy requirements and demands will also expand and change. However, the one constant is adequate data protection: it’s the best way to ensure that companies are both complying with the law and guaranteeing information privacy.\n",
            "\n",
            "Varonis’ products are some of the most advanced data protection available. Because of this, our systems are used to protect consumer privacy all over the world.\n",
            "\n",
            "Different Definitions of Data Privacy\n",
            "\n",
            "Though most people agree on the importance of data privacy, and everyone is agreed that data protection is at the heart of ensuring privacy, the definition of “data privacy” itself is notoriously complex.\n",
            "\n",
            "None of the laws we mention in this article – the GDPR, the CCPA, or the HIPAA – define precisely what they mean by data privacy. Instead, the provisions they contain suggest a number of best practices, and spell out the rights of consumers and businesses. Since every piece of legislation is different, trying to define exactly what is meant by “privacy” can be extremely difficult.\n",
            "\n",
            "The situation doesn’t get any better if we limit our scope to one piece of legislation. Europe’s GDPR is arguably the most wide-ranging, comprehensive piece of data privacy legislation. Unfortunately, it is also confusing: the New York Times, back in May 2018, called it a “big, confusing mess”. The law grants citizens a number of rights, including the right to data portability (which allows people to move their data between platforms), and the right not to be subject to decisions based on automated data processing (prohibiting, for example, the use of an algorithm to reject applicants for jobs or loans).\n",
            "\n",
            "The problem is that the practical implications of these rules are incredibly complex. The GDPR – like a lot of EU law – seeks to present a compromise between the different systems and values of many varied nation states. Because of this, “many scientists and data managers who will be subject to the law find it incomprehensible,” and doubt that absolute compliance is even possible.\n",
            "\n",
            "For businesses in the USA, this is likely to become a huge problem. Being subject to both the GDPR and CCPA is an issue because the definition of data privacy that the two pieces of legislation use, and the way that they define “fair use” of data, are very different. Here are the key differences:\n",
            "\n",
            "Firstly, you should recognize that the CCPA applies to residents of California (albeit defined in a slightly strange way), no matter where your company is based. Similarly, the GDPR protects the rights of EU citizens, again no matter where your company is based. If you deal with citizens of the EU or California, you are covered.\n",
            "\n",
            "The CCPA protects the rights of Californians to not have their data sold by companies. Companies dealing with Californians (that is, all companies with a website) must include a “do not sell my personal information” link on their website home pages to give consumers the right to opt out of allowing their information to be sold. The GDPR, on the other hand, doesn’t deal with this issue.\n",
            "\n",
            "Another key difference is that under Article 6 of the GDPR, companies must demonstrate that they have a legal basis for processing customer information. The CCPA, on the other hand, doesn’t require that you justify collecting or processing private data.\n",
            "\n",
            "The GDPR also contains specific rules about how health data can be collected and stored. The GDPR defines “biometric data” and “genetic data” as two separate types of personal data, whereas under CCPA, such information is encompassed under the single category of “personal information.”\n",
            "\n",
            "The GDPR applies to all companies who work with data, whereas the CCPA only applies to for-profit businesses.\n",
            "\n",
            "In some ways, the GDPR is stricter when it comes to the managerial processes required to achieve compliance. The legislation requires that “data protection officers” be appointed within companies. The CCPA doesn’t require this, as long as the other provisions in the regulation are being adhered to.\n",
            "\n",
            "In terms of the fines that can be levied under both pieces of legislation, there are also huge differences. The GDPR’s Article 83 states that companies can be subject to fines of up to €20 million or 4% of total worldwide turnover. That can be a huge amount for some companies, and Google has already been fined €50 million for data privacy violations in France. The CCPA, on the other hand, is much more lenient: companies are given a grace period of 30 days to fix the violation, and then are only fined $2500 per violation.\n",
            "\n",
            "In short, the different definitions of data privacy used in just these two pieces of legislation (to say nothing of HIPAA or other pieces of legislation) are extremely confusing. What is deemed “reasonable” differs significantly in each law, and so do the penalties for breaking them.\n",
            "\n",
            "In practice, this means that companies who work with private data need to exceed the law in order to ensure that their data practices are well above those expected in the legislation. We’ll come on to how to do that shortly, but first let’s take a closer look at the pieces of legislation we’ve already mentioned.\n",
            "\n",
            "Data Privacy Laws and Acts\n",
            "\n",
            "Fortunately, lawmakers have recognized the importance of having data privacy regulation and the need to hold companies responsible for end-user data.\n",
            "\n",
            "Companies are now required to determine what data privacy acts and laws affect their users. For instance, you must know where the data originated (country and state), what personally identifiable information it might contain and usage methodology.\n",
            "\n",
            "Let’s take a closer look at how the most recent data privacy regulations impact users and companies. Here are the four most important pieces of data privacy legislation.\n",
            "\n",
            "The GDPR: EU Data Privacy Laws\n",
            "\n",
            "Enacted in May 2018, the GDPR aims to protect EU citizens’ personal data, and is already having major affects on companies in Europe. There are many aspects of the GDPR, and many tasks that companies have to undertake to achieve and maintain compliance with the GDPR. These include, but are not limited to:\n",
            "\n",
            "Explicit opt-in consent from users\n",
            "\n",
            "The right to request data from companies\n",
            "\n",
            "The right to have your data deleted\n",
            "\n",
            "GDPR gives consumers certain rights over their data while also placing security obligations on companies holding their data. For companies, one challenging aspect of the legislation is the requirement to respond to subject access requests.\n",
            "\n",
            "The reality is that most organizations can’t easily locate, provide, or delete an individual’s personal data on request. Many CIOs and data privacy officers rely on GDPR compliance software that automatically discovers and classifies personal data in order to keep it protected and to help expedite data subject access requests.\n",
            "\n",
            "Data Privacy in Healthcare\n",
            "\n",
            "While the EU has GDPR, one of the most prominent US data protection and privacy laws at the federal level is HIPAA—a data privacy regulation that was put in place to safeguard patient personal health information.\n",
            "\n",
            "Healthcare providers have always been an attractive target for data breaches. In fact, health records are extremely valuable—approximately 10-20 times more valuable than credit card numbers. That’s why they should ensure they are compliant with HIPAA.\n",
            "\n",
            "Even though Congress passed HIPAA in 1996, calls for even greater data privacy protection have increased with data breaches at an all-time high and the rate at which companies use and sell the data they collect on their patients rising fast.\n",
            "\n",
            "Fortunately, in December 2000, the U.S. Department of Health and Human Services(HHS) issued the Privacy Rule to carry out HIPAA’s mandate to safeguard the privacy of individually identifiable health information.\n",
            "\n",
            "If you’re curious how GDPR and HIPAA compare, keep in mind that GDPR covers an even broader scope than HIPAA and does not focus exclusively on health data. GDPR calls for protecting “sensitive personal data” which includes protecting health data. Bottom line: GDPR is comparable to HIPAA’s regulatory requirements.\n",
            "\n",
            "Data Privacy for Financial Institutions\n",
            "\n",
            "Another regulation that should be on your radar is the Gramm-Leach-Bliley Act (GLBA). The GLBA requires financial institutions to safeguard consumer financial data. To do this, leverage classification to quickly identify where your sensitive financial data is stored.\n",
            "\n",
            "The benefits of achieving GLBA compliance is multi-fold. It reduces potential fines and reputational harm due to the unauthorized sharing or loss of sensitive financial data. Sure, the GLBA isn’t the same as the EU’s GDPR, but it won’t be long before America gets their own.\n",
            "\n",
            "Innovative US Data Privacy Laws\n",
            "\n",
            "In the US, data privacy is also regulated under a number of further laws. Some of these operate at a state level, and some apply to the whole country. These laws represent an innovative approach to ensuring data privacy in the country, and in some cases go much further than the current legislation that deals with individual sectors.\n",
            "\n",
            "The CCPA, for instance, is a law in California that extends data privacy protections in that state. Businesses operating in the state of California need to be ready on January 1, 2020 for the CCPA to identify and discover personal information, fulfill data subject access requests, and protect consumer data. The CCPA gives consumers a right to control how companies collect and use their personal data. This means that companies need to be able to quickly and accurately find and classify sensitive data so that they can identify data that falls under the CCPA and fulfill data subject access requests (DSARs).\n",
            "\n",
            "Similarly, the COPPA, the Children’s Online Privacy Protection Act, aims to protect the privacy of children under 13, and was adopted back in 1998. This law stipulates that companies must ask for parents’ permission to collect data on children, and also specifies the way that this data can then be held and processed.\n",
            "\n",
            "Several states are considering similar laws to California’s, and there appears to be an appetite among lawmakers to improve data security and privacy in further sectors. Some have even suggested that a Federal Department of Cybersecurity could be set up to standardize these laws across the country, but at the moment the situation remains a patchwork of different regulations.\n",
            "\n",
            "Other Data Privacy Laws\n",
            "\n",
            "Though the laws mentioned above are the most high-profile regulatory frameworks when it comes to data privacy, you should also be aware that there are data privacy laws that apply to particular kinds of companies, or for particular kinds of data.\n",
            "\n",
            "Which of these apply to your business will depend both on your sector and how you store and process data, but it’s worth checking the provisions for ISO 27001 compliance, FISMA compliance, and Sox compliance.\n",
            "\n",
            "Varonis can help you work toward compliance with all these frameworks by providing full data protection solutions, which will ensure that your data is both safe and fully compliant with the relevant legislation. If you want to discuss your data privacy requirements, give us a call today.\n",
            "\n",
            "Data Privacy Tips\n",
            "\n",
            "If you’ve read through the above, you’re probably wondering how you can ensure data privacy. In this section, we’ll give you some tips on how to do that, whether you are a business or merely a concerned consumer.\n",
            "\n",
            "Business-Focused Data Privacy Tips\n",
            "\n",
            "We have previously written about how businesses can ensure data security, and because of the link between data security and data privacy our advice there will also help you to ensure the privacy of the data you hold as a business.\n",
            "\n",
            "These techniques include:\n",
            "\n",
            "Ensuring awareness of data security and privacy concerns and techniques for every employee at your company. You should integrate training on data privacy into your general training program, and it should be part of the onboarding process for new staff.\n",
            "\n",
            "Make sure that you take advantage of the free security tools that are out there. This includes encrypted storage solutions, password managers, and VPNs. These small tools can dramatically decrease your vulnerability to attack, and are easy to use and install.\n",
            "\n",
            "Monitor your network for suspicious activity, so that you can catch on to an attack early enough to reduce the damage.\n",
            "\n",
            "Don’t underestimate hackers’ interest in your company because it’s smaller or just starting out — breaches and attacks affect organizations of all sizes, including start-ups and small businesses.\n",
            "\n",
            "Implement the zero trust model. As Sivan Tehila, founder of Leading Cyber Ladies and Cyber19w, tells us, “Zero Trust restricts access to the entire network by isolating applications and segmenting network access based on user permissions, authentication and user verification. With Zero Trust policy enforcement and protection are easily implemented for all users, devices, applications and data, regardless of where users are connecting from. This user-centric approach makes the verification of authorized entities mandatory, not optional. This ‘trust, but verify’ mindset is absolutely essential for today’s organizations.”\n",
            "\n",
            "Consumers-Focused Data Privacy Tips\n",
            "\n",
            "As a consumer, you don’t have all that much control over how companies are storing your data, and how well they are keeping it private. That said, there are a number of easy steps you can take that can improve the privacy of your data. A good first step is to familiarize yourself with the privacy tools that are available. This means at minimum a VPN to encrypt your internet connection, and a password manager to improve the security of your online accounts.\n",
            "\n",
            "Use multi-factor authentication for additional layers of security and to make sure important accounts aren’t easily hacked if the passwords are cracked. Preferentially use non-SMS-based MFA options. Many online companies now offer multi-factor authentication for free, so request that they implement it on your account.\n",
            "\n",
            "Be aware of what spyware in the IoT means for data privacy: this has been one of the biggest cybersecurity stories of the last year, and points to the importance of keeping all of your IoT devices updated with the latest security software.\n",
            "\n",
            "Back up data often. If data storage is ever compromised, you’ll have the best chance of hanging on to that data if you have a secure backup.\n",
            "\n",
            "Keep an eye out for strange requests, spelling and grammar mistakes, flashy click-bait content and other things that may seem “off.”\n",
            "\n",
            "How Varonis Helps with Data Privacy\n",
            "\n",
            "To achieve data privacy nirvana, organizations need a data security solution that protects enterprise data, prevents data breaches, reduces risk, and helps achieve compliance. At Varonis, our approach to data security as it relates to enhancing data privacy includes:\n",
            "\n",
            "Manage access to sensitive and regulated data\n",
            "\n",
            "You’ll never hear anyone complain of having too much access. That’s why regular entitlement reviews with DatAdvantage and DataPrivilege ensure that only the right people have access to the right data: unrestrained access leave companies at risk of a data breach, theft or misuse. If you want to achieve least privilege and compliance faster, the Automation Engine helps you get there – so that you can automatically remediate global access and fix file system permissions.\n",
            "\n",
            "Follow proper compliance requirements\n",
            "\n",
            "Love it or hate it, compliance requirements hold a baseline that enforces data privacy goals to sustain freedom, intimacy, and solitude. With Data Classification Engine, you’ll find and classify regulated and sensitive content. After, you’ll have the option to automatically transport data to where it needs to be and also fulfill data subject access requests as needed.\n",
            "\n",
            "Monitor and detect suspicious behavior on sensitive data\n",
            "\n",
            "Arming your organization with DatAlert means that you’ll have continuous monitoring and alerting on all your organization’s data. This means companies can identify and monitor consumer personal data, track who is accessing it, highlight unusual activity and report on odd behavior that’s regulated and sensitive. Ultimately, knowing that your data is always safe and secure also ensures data privacy.\n",
            "\n",
            "Data Privacy News and Resources\n",
            "\n",
            "Data privacy has become a mainstream concern over the past year, and coverage of the issue has appeared in all the major newspapers. If you want to stay on top of breaking news in the data privacy field, though, it’s also worth checking the specialized media: WIRED will often report on data privacy stories, as will HackerNoon and InfoSecurity Magazine.\n",
            "\n",
            "Here are some of the biggest stories in data privacy at the moment:\n",
            "\n",
            "As 2019 comes to a close, all eyes are on next year, when California’s CCPA will go into effect in the State. This law represents the strongest data privacy protections in the USA at the moment, and companies have been preparing to implement it for years. The key question is whether this kind of law can eventually be applied across the country.\n",
            "\n",
            "On the consumer side of the equation, much of the debate of late has been dominated by the exposure of “project nightingale”, a data-sharing agreement between Google and Ascension, the USA’s second-largest healthcare provider. Though this data exchange was completely legal, it has given people a renewed awareness of just how much personal data they are sharing, and how it is being processed.\n",
            "\n",
            "In news from further afield, India is now passing national legislation to control what companies can do with personal data. The new law is inspired by similar frameworks in the EU and US, and will potentially have a huge impact on the country’s growing tech sector.\n",
            "\n",
            "FAQs About Data Privacy\n",
            "\n",
            "Even after all that information, you might still have some questions about data privacy. We’re here to help.\n",
            "\n",
            "Q: Is There a Global Data Privacy Law?\n",
            "\n",
            "A: No. Data privacy laws are relatively new in any case, and there is no worldwide standard. That said, many companies look to the GDPR – Europe’s data protection law – as a guide for how to store and manage data privacy correctly, even if they are not doing business in the EU. Different laws will apply to your business depending on your sector and location, so make sure you check your responsibilities.\n",
            "\n",
            "Q: Can We Protect Our Data in Other Countries?\n",
            "\n",
            "A: Again, because of the fragmentary nature of data privacy laws, it can be extremely difficult to ensure the security of your data if you send it abroad. The key, as a concerned consumer, is only to share information with companies who are open and honest about their data privacy policies, and who won’t sell your information to the highest bidder.\n",
            "\n",
            "Q: How Can Companies Ensure That They Have Data Privacy When Using Public Clouds?\n",
            "\n",
            "Choose the correct cloud provider. In truth, most companies will not have the time or resources to employ a dedicated cloud security specialist. The best solution for most will, therefore, be to choose a cloud provider who also provides you with security features, and who can advise you about your legal responsibilities.\n",
            "\n",
            "A Final Word\n",
            "\n",
            "Data privacy is important for a number of reasons. As a consumer, you need to be aware that your data is being stored and used by a whole host of companies, and make sure that you don’t share more than you have to. Privacy is, after all, a fundamental right.\n",
            "\n",
            "As a company, data privacy is arguable even more important. You may have to meet legal responsibilities about how you collect, store, and process personal data, and non-compliance could lead to a hefty fine. If you fall victim to a hack, the consequences in terms of lost revenue and lost customer trust could be even worse.\n",
            "\n",
            "That’s why we’ve built a complete security solution that provides advanced data security features. DatAdvantage and DataPrivilege ensure that only those people who should have access to your data do, and so you can work toward data privacy compliance easily and effectively.\n"
          ],
          "name": "stdout"
        }
      ]
    },
    {
      "cell_type": "code",
      "metadata": {
        "id": "4nfc37vuLfEE",
        "colab_type": "code",
        "colab": {}
      },
      "source": [
        "#Tokenization:\n",
        "text = corpus\n",
        "sentence_list = nltk.sent_tokenize(text) \n",
        "#This should showcase a list of sentences."
      ],
      "execution_count": null,
      "outputs": []
    },
    {
      "cell_type": "code",
      "metadata": {
        "id": "v4DhITbhMFtd",
        "colab_type": "code",
        "colab": {
          "base_uri": "https://localhost:8080/",
          "height": 54
        },
        "outputId": "51e8f206-c142-431a-81e3-08738c8a904f"
      },
      "source": [
        "#Print the list of sentences.\n",
        "print(sentence_list)"
      ],
      "execution_count": null,
      "outputs": [
        {
          "output_type": "stream",
          "text": [
            "['Data privacy or information privacy is a branch of data security concerned with the proper handling of data – consent, notice, and regulatory obligations.', 'More specifically, practical data privacy concerns often revolve around:\\n\\nWhether or how data is shared with third parties.', 'How data is legally collected or stored.', 'Regulatory restrictions such as GDPR, HIPAA, GLBA, or CCPA.', 'In this guide, we’ll look at why data privacy is important, and how it is linked to data security.', 'Then we’ll take a look at the legislation that covers data privacy in several key countries, and In several key industries.', 'Finally, we’ll give you some ways to improve your data privacy in both personal and business environments.', 'Get the Free Pen Testing Active Directory Environments EBook “This really opened my eyes to AD security in a way defensive work never did.”\\n\\nAs we’ll see, the security and privacy of data are intimately connected, and so ensuring data privacy means making use of a complete security solution like that offered by Varonis.', 'Why is Data Privacy Important?', 'There are two drivers for why data privacy is one of the most significant issues in our industry.', 'Data is one of the most important assets a company has.', 'With the rise of the data economy, companies find enormous value in collecting, sharing and using data.', 'Companies such as Google, Facebook, and Amazon have all built empires atop the data economy.', 'Transparency in how businesses request consent, abide by their privacy policies, and manage the data that they’ve collected is vital to building trust and accountability with customers and partners who expect privacy.', 'Many companies have learned the importance of privacy the hard way, through highly publicized privacy fails.', 'Second, privacy is the right of an individual to be free from uninvited surveillance.', 'To safely exist in one’s space and freely express one’s opinions behind closed doors is critical to living in a democratic society.', '“Privacy forms the basis of our freedom.', 'You have to have moments of reserve, reflection, intimacy, and solitude,” says Dr. Ann Cavoukian, former Information & Privacy Commissioner of Ontario, Canada.', 'Dr. Cavoukian knows a thing or two about data privacy.', 'She is best known for her leadership in the development of Privacy by Design (PbD), which now serves as a cornerstone for many pieces of contemporary data privacy legislation.', 'Data Privacy vs. Data Security\\n\\nOrganizations commonly believe that keeping sensitive data secure from hackers means they’re automatically compliant with data privacy regulations.', 'This is not the case.', 'Data Security and data privacy are often used interchangeably, but there are distinct differences:\\n\\nData Security protects data from compromise by external attackers and malicious insiders.', 'Data Privacy governs how data is collected, shared and used.', 'Consider a scenario where you’ve gone to great lengths to secure personally identifiable information (PII).', 'The data is encrypted, access is restricted, and multiple overlapping monitoring systems are in place.', 'However, if that PII was collected without proper consent, you could be violating a data privacy regulation even though the data is secure.', 'Data Protection is the Force Behind Our Right to Privacy\\n\\nDespite recent advances in data privacy legislation and practice, consumer’s privacy is regularly invaded or compromised by companies and governments.', 'That has led some to argue that consumers have already lost the privacy war.', 'While you can have data protection without data privacy, you cannot have data privacy without data protection.', 'Ensuring data privacy means that you’re not the creepy company that greedily collects all of your customer’s personal data – whether it is with passive location tracking, apps secretly absorbing your personal address book, or websites recording your every keystroke.', 'Instead, employees should be regularly trained on data protection so they understand the processes and procedures necessary to ensure proper collection, sharing, and use of sensitive data as part of a data security portfolio.', 'Information privacy also includes the regulations required for companies to protect data.', 'And as more data protection regulation grows worldwide, global privacy requirements and demands will also expand and change.', 'However, the one constant is adequate data protection: it’s the best way to ensure that companies are both complying with the law and guaranteeing information privacy.', 'Varonis’ products are some of the most advanced data protection available.', 'Because of this, our systems are used to protect consumer privacy all over the world.', 'Different Definitions of Data Privacy\\n\\nThough most people agree on the importance of data privacy, and everyone is agreed that data protection is at the heart of ensuring privacy, the definition of “data privacy” itself is notoriously complex.', 'None of the laws we mention in this article – the GDPR, the CCPA, or the HIPAA – define precisely what they mean by data privacy.', 'Instead, the provisions they contain suggest a number of best practices, and spell out the rights of consumers and businesses.', 'Since every piece of legislation is different, trying to define exactly what is meant by “privacy” can be extremely difficult.', 'The situation doesn’t get any better if we limit our scope to one piece of legislation.', 'Europe’s GDPR is arguably the most wide-ranging, comprehensive piece of data privacy legislation.', 'Unfortunately, it is also confusing: the New York Times, back in May 2018, called it a “big, confusing mess”.', 'The law grants citizens a number of rights, including the right to data portability (which allows people to move their data between platforms), and the right not to be subject to decisions based on automated data processing (prohibiting, for example, the use of an algorithm to reject applicants for jobs or loans).', 'The problem is that the practical implications of these rules are incredibly complex.', 'The GDPR – like a lot of EU law – seeks to present a compromise between the different systems and values of many varied nation states.', 'Because of this, “many scientists and data managers who will be subject to the law find it incomprehensible,” and doubt that absolute compliance is even possible.', 'For businesses in the USA, this is likely to become a huge problem.', 'Being subject to both the GDPR and CCPA is an issue because the definition of data privacy that the two pieces of legislation use, and the way that they define “fair use” of data, are very different.', 'Here are the key differences:\\n\\nFirstly, you should recognize that the CCPA applies to residents of California (albeit defined in a slightly strange way), no matter where your company is based.', 'Similarly, the GDPR protects the rights of EU citizens, again no matter where your company is based.', 'If you deal with citizens of the EU or California, you are covered.', 'The CCPA protects the rights of Californians to not have their data sold by companies.', 'Companies dealing with Californians (that is, all companies with a website) must include a “do not sell my personal information” link on their website home pages to give consumers the right to opt out of allowing their information to be sold.', 'The GDPR, on the other hand, doesn’t deal with this issue.', 'Another key difference is that under Article 6 of the GDPR, companies must demonstrate that they have a legal basis for processing customer information.', 'The CCPA, on the other hand, doesn’t require that you justify collecting or processing private data.', 'The GDPR also contains specific rules about how health data can be collected and stored.', 'The GDPR defines “biometric data” and “genetic data” as two separate types of personal data, whereas under CCPA, such information is encompassed under the single category of “personal information.”\\n\\nThe GDPR applies to all companies who work with data, whereas the CCPA only applies to for-profit businesses.', 'In some ways, the GDPR is stricter when it comes to the managerial processes required to achieve compliance.', 'The legislation requires that “data protection officers” be appointed within companies.', 'The CCPA doesn’t require this, as long as the other provisions in the regulation are being adhered to.', 'In terms of the fines that can be levied under both pieces of legislation, there are also huge differences.', 'The GDPR’s Article 83 states that companies can be subject to fines of up to €20 million or 4% of total worldwide turnover.', 'That can be a huge amount for some companies, and Google has already been fined €50 million for data privacy violations in France.', 'The CCPA, on the other hand, is much more lenient: companies are given a grace period of 30 days to fix the violation, and then are only fined $2500 per violation.', 'In short, the different definitions of data privacy used in just these two pieces of legislation (to say nothing of HIPAA or other pieces of legislation) are extremely confusing.', 'What is deemed “reasonable” differs significantly in each law, and so do the penalties for breaking them.', 'In practice, this means that companies who work with private data need to exceed the law in order to ensure that their data practices are well above those expected in the legislation.', 'We’ll come on to how to do that shortly, but first let’s take a closer look at the pieces of legislation we’ve already mentioned.', 'Data Privacy Laws and Acts\\n\\nFortunately, lawmakers have recognized the importance of having data privacy regulation and the need to hold companies responsible for end-user data.', 'Companies are now required to determine what data privacy acts and laws affect their users.', 'For instance, you must know where the data originated (country and state), what personally identifiable information it might contain and usage methodology.', 'Let’s take a closer look at how the most recent data privacy regulations impact users and companies.', 'Here are the four most important pieces of data privacy legislation.', 'The GDPR: EU Data Privacy Laws\\n\\nEnacted in May 2018, the GDPR aims to protect EU citizens’ personal data, and is already having major affects on companies in Europe.', 'There are many aspects of the GDPR, and many tasks that companies have to undertake to achieve and maintain compliance with the GDPR.', 'These include, but are not limited to:\\n\\nExplicit opt-in consent from users\\n\\nThe right to request data from companies\\n\\nThe right to have your data deleted\\n\\nGDPR gives consumers certain rights over their data while also placing security obligations on companies holding their data.', 'For companies, one challenging aspect of the legislation is the requirement to respond to subject access requests.', 'The reality is that most organizations can’t easily locate, provide, or delete an individual’s personal data on request.', 'Many CIOs and data privacy officers rely on GDPR compliance software that automatically discovers and classifies personal data in order to keep it protected and to help expedite data subject access requests.', 'Data Privacy in Healthcare\\n\\nWhile the EU has GDPR, one of the most prominent US data protection and privacy laws at the federal level is HIPAA—a data privacy regulation that was put in place to safeguard patient personal health information.', 'Healthcare providers have always been an attractive target for data breaches.', 'In fact, health records are extremely valuable—approximately 10-20 times more valuable than credit card numbers.', 'That’s why they should ensure they are compliant with HIPAA.', 'Even though Congress passed HIPAA in 1996, calls for even greater data privacy protection have increased with data breaches at an all-time high and the rate at which companies use and sell the data they collect on their patients rising fast.', 'Fortunately, in December 2000, the U.S. Department of Health and Human Services(HHS) issued the Privacy Rule to carry out HIPAA’s mandate to safeguard the privacy of individually identifiable health information.', 'If you’re curious how GDPR and HIPAA compare, keep in mind that GDPR covers an even broader scope than HIPAA and does not focus exclusively on health data.', 'GDPR calls for protecting “sensitive personal data” which includes protecting health data.', 'Bottom line: GDPR is comparable to HIPAA’s regulatory requirements.', 'Data Privacy for Financial Institutions\\n\\nAnother regulation that should be on your radar is the Gramm-Leach-Bliley Act (GLBA).', 'The GLBA requires financial institutions to safeguard consumer financial data.', 'To do this, leverage classification to quickly identify where your sensitive financial data is stored.', 'The benefits of achieving GLBA compliance is multi-fold.', 'It reduces potential fines and reputational harm due to the unauthorized sharing or loss of sensitive financial data.', 'Sure, the GLBA isn’t the same as the EU’s GDPR, but it won’t be long before America gets their own.', 'Innovative US Data Privacy Laws\\n\\nIn the US, data privacy is also regulated under a number of further laws.', 'Some of these operate at a state level, and some apply to the whole country.', 'These laws represent an innovative approach to ensuring data privacy in the country, and in some cases go much further than the current legislation that deals with individual sectors.', 'The CCPA, for instance, is a law in California that extends data privacy protections in that state.', 'Businesses operating in the state of California need to be ready on January 1, 2020 for the CCPA to identify and discover personal information, fulfill data subject access requests, and protect consumer data.', 'The CCPA gives consumers a right to control how companies collect and use their personal data.', 'This means that companies need to be able to quickly and accurately find and classify sensitive data so that they can identify data that falls under the CCPA and fulfill data subject access requests (DSARs).', 'Similarly, the COPPA, the Children’s Online Privacy Protection Act, aims to protect the privacy of children under 13, and was adopted back in 1998.', 'This law stipulates that companies must ask for parents’ permission to collect data on children, and also specifies the way that this data can then be held and processed.', 'Several states are considering similar laws to California’s, and there appears to be an appetite among lawmakers to improve data security and privacy in further sectors.', 'Some have even suggested that a Federal Department of Cybersecurity could be set up to standardize these laws across the country, but at the moment the situation remains a patchwork of different regulations.', 'Other Data Privacy Laws\\n\\nThough the laws mentioned above are the most high-profile regulatory frameworks when it comes to data privacy, you should also be aware that there are data privacy laws that apply to particular kinds of companies, or for particular kinds of data.', 'Which of these apply to your business will depend both on your sector and how you store and process data, but it’s worth checking the provisions for ISO 27001 compliance, FISMA compliance, and Sox compliance.', 'Varonis can help you work toward compliance with all these frameworks by providing full data protection solutions, which will ensure that your data is both safe and fully compliant with the relevant legislation.', 'If you want to discuss your data privacy requirements, give us a call today.', 'Data Privacy Tips\\n\\nIf you’ve read through the above, you’re probably wondering how you can ensure data privacy.', 'In this section, we’ll give you some tips on how to do that, whether you are a business or merely a concerned consumer.', 'Business-Focused Data Privacy Tips\\n\\nWe have previously written about how businesses can ensure data security, and because of the link between data security and data privacy our advice there will also help you to ensure the privacy of the data you hold as a business.', 'These techniques include:\\n\\nEnsuring awareness of data security and privacy concerns and techniques for every employee at your company.', 'You should integrate training on data privacy into your general training program, and it should be part of the onboarding process for new staff.', 'Make sure that you take advantage of the free security tools that are out there.', 'This includes encrypted storage solutions, password managers, and VPNs.', 'These small tools can dramatically decrease your vulnerability to attack, and are easy to use and install.', 'Monitor your network for suspicious activity, so that you can catch on to an attack early enough to reduce the damage.', 'Don’t underestimate hackers’ interest in your company because it’s smaller or just starting out — breaches and attacks affect organizations of all sizes, including start-ups and small businesses.', 'Implement the zero trust model.', 'As Sivan Tehila, founder of Leading Cyber Ladies and Cyber19w, tells us, “Zero Trust restricts access to the entire network by isolating applications and segmenting network access based on user permissions, authentication and user verification.', 'With Zero Trust policy enforcement and protection are easily implemented for all users, devices, applications and data, regardless of where users are connecting from.', 'This user-centric approach makes the verification of authorized entities mandatory, not optional.', 'This ‘trust, but verify’ mindset is absolutely essential for today’s organizations.”\\n\\nConsumers-Focused Data Privacy Tips\\n\\nAs a consumer, you don’t have all that much control over how companies are storing your data, and how well they are keeping it private.', 'That said, there are a number of easy steps you can take that can improve the privacy of your data.', 'A good first step is to familiarize yourself with the privacy tools that are available.', 'This means at minimum a VPN to encrypt your internet connection, and a password manager to improve the security of your online accounts.', 'Use multi-factor authentication for additional layers of security and to make sure important accounts aren’t easily hacked if the passwords are cracked.', 'Preferentially use non-SMS-based MFA options.', 'Many online companies now offer multi-factor authentication for free, so request that they implement it on your account.', 'Be aware of what spyware in the IoT means for data privacy: this has been one of the biggest cybersecurity stories of the last year, and points to the importance of keeping all of your IoT devices updated with the latest security software.', 'Back up data often.', 'If data storage is ever compromised, you’ll have the best chance of hanging on to that data if you have a secure backup.', 'Keep an eye out for strange requests, spelling and grammar mistakes, flashy click-bait content and other things that may seem “off.”\\n\\nHow Varonis Helps with Data Privacy\\n\\nTo achieve data privacy nirvana, organizations need a data security solution that protects enterprise data, prevents data breaches, reduces risk, and helps achieve compliance.', 'At Varonis, our approach to data security as it relates to enhancing data privacy includes:\\n\\nManage access to sensitive and regulated data\\n\\nYou’ll never hear anyone complain of having too much access.', 'That’s why regular entitlement reviews with DatAdvantage and DataPrivilege ensure that only the right people have access to the right data: unrestrained access leave companies at risk of a data breach, theft or misuse.', 'If you want to achieve least privilege and compliance faster, the Automation Engine helps you get there – so that you can automatically remediate global access and fix file system permissions.', 'Follow proper compliance requirements\\n\\nLove it or hate it, compliance requirements hold a baseline that enforces data privacy goals to sustain freedom, intimacy, and solitude.', 'With Data Classification Engine, you’ll find and classify regulated and sensitive content.', 'After, you’ll have the option to automatically transport data to where it needs to be and also fulfill data subject access requests as needed.', 'Monitor and detect suspicious behavior on sensitive data\\n\\nArming your organization with DatAlert means that you’ll have continuous monitoring and alerting on all your organization’s data.', 'This means companies can identify and monitor consumer personal data, track who is accessing it, highlight unusual activity and report on odd behavior that’s regulated and sensitive.', 'Ultimately, knowing that your data is always safe and secure also ensures data privacy.', 'Data Privacy News and Resources\\n\\nData privacy has become a mainstream concern over the past year, and coverage of the issue has appeared in all the major newspapers.', 'If you want to stay on top of breaking news in the data privacy field, though, it’s also worth checking the specialized media: WIRED will often report on data privacy stories, as will HackerNoon and InfoSecurity Magazine.', 'Here are some of the biggest stories in data privacy at the moment:\\n\\nAs 2019 comes to a close, all eyes are on next year, when California’s CCPA will go into effect in the State.', 'This law represents the strongest data privacy protections in the USA at the moment, and companies have been preparing to implement it for years.', 'The key question is whether this kind of law can eventually be applied across the country.', 'On the consumer side of the equation, much of the debate of late has been dominated by the exposure of “project nightingale”, a data-sharing agreement between Google and Ascension, the USA’s second-largest healthcare provider.', 'Though this data exchange was completely legal, it has given people a renewed awareness of just how much personal data they are sharing, and how it is being processed.', 'In news from further afield, India is now passing national legislation to control what companies can do with personal data.', 'The new law is inspired by similar frameworks in the EU and US, and will potentially have a huge impact on the country’s growing tech sector.', 'FAQs About Data Privacy\\n\\nEven after all that information, you might still have some questions about data privacy.', 'We’re here to help.', 'Q: Is There a Global Data Privacy Law?', 'A: No.', 'Data privacy laws are relatively new in any case, and there is no worldwide standard.', 'That said, many companies look to the GDPR – Europe’s data protection law – as a guide for how to store and manage data privacy correctly, even if they are not doing business in the EU.', 'Different laws will apply to your business depending on your sector and location, so make sure you check your responsibilities.', 'Q: Can We Protect Our Data in Other Countries?', 'A: Again, because of the fragmentary nature of data privacy laws, it can be extremely difficult to ensure the security of your data if you send it abroad.', 'The key, as a concerned consumer, is only to share information with companies who are open and honest about their data privacy policies, and who won’t sell your information to the highest bidder.', 'Q: How Can Companies Ensure That They Have Data Privacy When Using Public Clouds?', 'Choose the correct cloud provider.', 'In truth, most companies will not have the time or resources to employ a dedicated cloud security specialist.', 'The best solution for most will, therefore, be to choose a cloud provider who also provides you with security features, and who can advise you about your legal responsibilities.', 'A Final Word\\n\\nData privacy is important for a number of reasons.', 'As a consumer, you need to be aware that your data is being stored and used by a whole host of companies, and make sure that you don’t share more than you have to.', 'Privacy is, after all, a fundamental right.', 'As a company, data privacy is arguable even more important.', 'You may have to meet legal responsibilities about how you collect, store, and process personal data, and non-compliance could lead to a hefty fine.', 'If you fall victim to a hack, the consequences in terms of lost revenue and lost customer trust could be even worse.', 'That’s why we’ve built a complete security solution that provides advanced data security features.', 'DatAdvantage and DataPrivilege ensure that only those people who should have access to your data do, and so you can work toward data privacy compliance easily and effectively.']\n"
          ],
          "name": "stdout"
        }
      ]
    },
    {
      "cell_type": "code",
      "metadata": {
        "id": "P1fNiRK6MwmR",
        "colab_type": "code",
        "colab": {}
      },
      "source": [
        "#To respond to a normal, random greeting gesture by a human!\n",
        "def response_greeting(text):\n",
        "  text = text.lower()\n",
        "\n",
        "  #Rigel's response to the greetings.\n",
        "  botGreetings = ['hello there! :)', 'hi! :)', 'hello! :)', 'greetings! :)', 'hey there! :)']\n",
        "  #User's greetings:\n",
        "  userGreetings = ['hi', 'hey', 'hola', 'hello', 'greetings', 'wassup']\n",
        "\n",
        "  for word in text.split():\n",
        "      if word in userGreetings:\n",
        "        return random.choice(botGreetings)\n"
      ],
      "execution_count": null,
      "outputs": []
    },
    {
      "cell_type": "code",
      "metadata": {
        "id": "Eh8_MddvlCUs",
        "colab_type": "code",
        "colab": {}
      },
      "source": [
        "def index_sort(list_var):\n",
        "  lenght = len(list_var)\n",
        "  list_index = list(range(0, lenght))\n",
        "\n",
        "  x = list_var\n",
        "  for i in range(lenght):\n",
        "    for j in range(lenght):\n",
        "          if x[list_index[i]] > x[list_index[j]]:\n",
        "          #Swap\n",
        "            temp = list_index[i]\n",
        "            list_index[i] = list_index[j]\n",
        "            list_index[j] = temp\n",
        "            return list_index "
      ],
      "execution_count": null,
      "outputs": []
    },
    {
      "cell_type": "code",
      "metadata": {
        "id": "IjcR8fq0W3Vp",
        "colab_type": "code",
        "colab": {}
      },
      "source": [
        "#Generate Rigel's answers.\n",
        "def botAnswer(userInput):\n",
        "  userInput = userInput.lower()\n",
        "  sentence_list.append(userInput)\n",
        "  botAnswer = ''\n",
        "  cm = CountVectorizer().fit_transform(sentence_list)\n",
        "  similarity_scores = cosine_similarity(cm[-1], cm)\n",
        "  similarity_scores_list = similarity_scores.flatten()\n",
        "  index = index_sort(similarity_scores_list)\n",
        "  index = index[1:]\n",
        "  response_flag = 0\n",
        "\n",
        "  j = 0\n",
        "  for i in range(len(index)):\n",
        "    if similarity_scores_list[index[i]] > 0.0:\n",
        "      botAnswer = botAnswer+' '+sentence_list[index[i]]\n",
        "      response_flag = 1\n",
        "      j = j+1\n",
        "    if j > 2:\n",
        "      break\n",
        "\n",
        "    if response_flag == 0:\n",
        "      botAnswer = botAnswer+' '+\"I, sincerely, apologize. I don't understand.\"\n",
        "    sentence_list.remove(userInput)\n",
        "    return botAnswer"
      ],
      "execution_count": null,
      "outputs": []
    },
    {
      "cell_type": "code",
      "metadata": {
        "id": "H921XBUY1nqB",
        "colab_type": "code",
        "colab": {
          "base_uri": "https://localhost:8080/",
          "height": 258
        },
        "outputId": "7e7847f6-d9ec-4c63-b994-39b5cc03a945"
      },
      "source": [
        "#Start a convo with Rigel!\n",
        "print('Rigel the Bot: Hi there, mortal. I am Rigel, a smart bot, I will answer your general questions on Data Privacy and Security. Please, type in lower case letters. Lastly, if you want to exit, do type: bye')\n",
        "\n",
        "exit_list = ['exit', 'see you later', 'quit', 'bye', 'break']\n",
        "\n",
        "while(True):\n",
        "  userInput = input()\n",
        "  if userInput.lower() in exit_list:\n",
        "    print('Rigel the Bot: Will chat with you later then! :)')\n",
        "    break\n",
        "  else:\n",
        "    if response_greeting(userInput) != None:\n",
        "      print('Rigel the Bot: '+response_greeting(userInput))\n",
        "    else:\n",
        "      print('Rigel the Bot: '+botAnswer(userInput))"
      ],
      "execution_count": null,
      "outputs": [
        {
          "output_type": "stream",
          "text": [
            "Rigel the Bot: Hi there, mortal. I am Rigel, a smart bot, I will answer your general questions on Data Privacy and Security. Please, type in lower case letters. Lastly, if you want to exit, do type: bye\n",
            "hello\n",
            "Rigel the Bot: hello there! :)\n",
            "so, what is data privacy and security?\n",
            "Rigel the Bot:  Data privacy or information privacy is a branch of data security concerned with the proper handling of data – consent, notice, and regulatory obligations.\n",
            "why is data security and privacy interchangeable?\n",
            "Rigel the Bot:  Data privacy or information privacy is a branch of data security concerned with the proper handling of data – consent, notice, and regulatory obligations.\n",
            "what is data protection?\n",
            "Rigel the Bot:  Data privacy or information privacy is a branch of data security concerned with the proper handling of data – consent, notice, and regulatory obligations.\n",
            "bye!\n",
            "Rigel the Bot:  I, sincerely, apologize. I don't understand.\n",
            "bye\n",
            "Rigel the Bot: Will chat with you later then! :)\n"
          ],
          "name": "stdout"
        }
      ]
    }
  ]
}